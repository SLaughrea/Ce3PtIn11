{
 "cells": [
  {
   "cell_type": "code",
   "execution_count": 1,
   "metadata": {},
   "outputs": [],
   "source": [
    "#https://www.datacamp.com/community/tutorials/markdown-in-jupyter-notebook\n",
    "#Comment formater un cahier\n",
    "#https://www.geeksforgeeks.org/jupyter-notebook-tips-and-tricks/\n",
    "#Comment mettre des commentaires"
   ]
  },
  {
   "cell_type": "code",
   "execution_count": 2,
   "metadata": {},
   "outputs": [],
   "source": [
    "# Importer des bibliothèques nécessaires\n",
    "\n",
    "#numérique\n",
    "import numpy as np\n",
    "\n",
    "#maniupulation des données\n",
    "import pandas as pd\n",
    "\n",
    "#généner des graphiques\n",
    "import matplotlib.pyplot as plt"
   ]
  },
  {
   "cell_type": "code",
   "execution_count": 4,
   "metadata": {},
   "outputs": [
    {
     "name": "stdout",
     "output_type": "stream",
     "text": [
      "[[ 2.95001000e+02  2.50422295e+01]\n",
      " [ 2.95029000e+02  2.50440101e+01]\n",
      " [ 2.95005000e+02  2.50418559e+01]\n",
      " [ 2.81856000e+02  2.49858981e+01]\n",
      " [ 2.81875000e+02  2.49964068e+01]\n",
      " [ 2.81902000e+02  2.50037737e+01]\n",
      " [ 2.69333000e+02  2.48880537e+01]\n",
      " [ 2.69333000e+02  2.48964515e+01]\n",
      " [ 2.69322000e+02  2.48893475e+01]\n",
      " [ 2.57335000e+02  2.47115215e+01]\n",
      " [ 2.57346000e+02  2.46857318e+01]\n",
      " [ 2.57344000e+02  2.46866373e+01]\n",
      " [ 2.45902000e+02  2.46178804e+01]\n",
      " [ 2.45887000e+02  2.46153030e+01]\n",
      " [ 2.45897000e+02  2.46092198e+01]\n",
      " [ 2.34978000e+02  2.44818469e+01]\n",
      " [ 2.34938000e+02  2.44491039e+01]\n",
      " [ 2.34969000e+02  2.44569023e+01]\n",
      " [ 2.24502000e+02  2.41101050e+01]\n",
      " [ 2.24513000e+02  2.41142308e+01]\n",
      " [ 2.24499000e+02  2.41030869e+01]\n",
      " [ 2.14508000e+02  2.39263625e+01]\n",
      " [ 2.14511000e+02  2.39063124e+01]\n",
      " [ 2.14511000e+02  2.39430837e+01]\n",
      " [ 2.04958000e+02  2.37459248e+01]\n",
      " [ 2.04950000e+02  2.37590536e+01]\n",
      " [ 2.04975000e+02  2.37393344e+01]\n",
      " [ 1.95852000e+02  2.36309176e+01]\n",
      " [ 1.95846000e+02  2.36897875e+01]\n",
      " [ 1.95843000e+02  2.36944077e+01]\n",
      " [ 1.87116000e+02  2.35375775e+01]\n",
      " [ 1.87126000e+02  2.35168796e+01]\n",
      " [ 1.87135000e+02  2.35179672e+01]\n",
      " [ 1.78824000e+02  2.34347317e+01]\n",
      " [ 1.78801000e+02  2.34229751e+01]\n",
      " [ 1.78797000e+02  2.34191981e+01]\n",
      " [ 1.70842000e+02  2.32198156e+01]\n",
      " [ 1.70853000e+02  2.32196425e+01]\n",
      " [ 1.70847000e+02  2.32270444e+01]\n",
      " [ 1.63237000e+02  2.29910746e+01]\n",
      " [ 1.63257000e+02  2.29863679e+01]\n",
      " [ 1.63229000e+02  2.29541913e+01]\n",
      " [ 1.55979000e+02  2.27533216e+01]\n",
      " [ 1.55978000e+02  2.27451211e+01]\n",
      " [ 1.55968000e+02  2.27446661e+01]\n",
      " [ 1.49045000e+02  2.24726632e+01]\n",
      " [ 1.49056000e+02  2.24804202e+01]\n",
      " [ 1.49052000e+02  2.24784385e+01]\n",
      " [ 1.42408000e+02  2.22582053e+01]\n",
      " [ 1.42413000e+02  2.22204960e+01]\n",
      " [ 1.42412000e+02  2.22421403e+01]\n",
      " [ 1.36068000e+02  2.19964884e+01]\n",
      " [ 1.36069000e+02  2.20192808e+01]\n",
      " [ 1.36093000e+02  2.19738253e+01]\n",
      " [ 1.30019000e+02  2.17327682e+01]\n",
      " [ 1.30013000e+02  2.17390284e+01]\n",
      " [ 1.30015000e+02  2.17396469e+01]\n",
      " [ 1.24223000e+02  2.14638130e+01]\n",
      " [ 1.24241000e+02  2.14450446e+01]\n",
      " [ 1.24230000e+02  2.14353867e+01]\n",
      " [ 1.18719000e+02  2.11456183e+01]\n",
      " [ 1.18706000e+02  2.11473512e+01]\n",
      " [ 1.18704000e+02  2.11393900e+01]\n",
      " [ 1.13423000e+02  2.08066481e+01]\n",
      " [ 1.13428000e+02  2.08346881e+01]\n",
      " [ 1.13421000e+02  2.08232929e+01]\n",
      " [ 1.08373000e+02  2.04821665e+01]\n",
      " [ 1.08368000e+02  2.04831962e+01]\n",
      " [ 1.08376000e+02  2.04759707e+01]\n",
      " [ 1.03553000e+02  2.01393570e+01]\n",
      " [ 1.03563000e+02  2.01291225e+01]\n",
      " [ 1.03562000e+02  2.01289564e+01]\n",
      " [ 9.89505000e+01  1.97564770e+01]\n",
      " [ 9.89555000e+01  1.97500966e+01]\n",
      " [ 9.89481000e+01  1.97387682e+01]\n",
      " [ 9.45373000e+01  1.93460268e+01]\n",
      " [ 9.45350000e+01  1.93462056e+01]\n",
      " [ 9.45450000e+01  1.93484215e+01]\n",
      " [ 9.03334000e+01  1.88751887e+01]\n",
      " [ 8.99856000e+01  1.88553817e+01]\n",
      " [ 8.38972000e+01  1.81383452e+01]\n",
      " [ 7.82006000e+01  1.73873025e+01]\n",
      " [ 7.28953000e+01  1.65904283e+01]\n",
      " [ 6.79606000e+01  1.57298889e+01]\n",
      " [ 6.33403000e+01  1.48205128e+01]\n",
      " [ 5.90405000e+01  1.38615709e+01]\n",
      " [ 5.50434000e+01  1.28542175e+01]\n",
      " [ 5.13074000e+01  1.18667067e+01]\n",
      " [ 4.78310000e+01  1.08879787e+01]\n",
      " [ 4.45871000e+01  9.90021404e+00]\n",
      " [ 4.15593000e+01  8.91864396e+00]\n",
      " [ 3.87447000e+01  7.95800732e+00]\n",
      " [ 3.61098000e+01  7.05377461e+00]\n",
      " [ 3.36628000e+01  6.17604948e+00]\n",
      " [ 3.13784000e+01  5.36117415e+00]\n",
      " [ 2.92473000e+01  4.60233339e+00]\n",
      " [ 2.67257000e+01  3.74241249e+00]\n",
      " [ 2.44173000e+01  2.99894915e+00]\n",
      " [ 2.23050000e+01  2.36126748e+00]\n",
      " [ 2.03802000e+01  1.83992284e+00]\n",
      " [ 1.86225000e+01  1.43445328e+00]\n",
      " [ 1.70141000e+01  1.08841496e+00]\n",
      " [ 1.55438000e+01  8.17752452e-01]\n",
      " [ 1.42049000e+01  6.12374008e-01]\n",
      " [ 1.29804000e+01  4.56244824e-01]\n",
      " [ 1.18568000e+01  3.41246231e-01]\n",
      " [ 1.08396000e+01  2.56953463e-01]\n",
      " [ 9.91630000e+00  1.95019883e-01]\n",
      " [ 9.06260000e+00  1.47604548e-01]\n",
      " [ 8.28480000e+00  1.12448411e-01]\n",
      " [ 7.55220000e+00  8.54983336e-02]\n",
      " [ 6.88890000e+00  6.55886322e-02]\n",
      " [ 6.29790000e+00  5.01517534e-02]\n",
      " [ 5.75410000e+00  3.85020814e-02]\n",
      " [ 5.25770000e+00  2.96850200e-02]\n",
      " [ 4.80430000e+00  2.31450926e-02]\n",
      " [ 4.39140000e+00  1.80699039e-02]\n",
      " [ 4.01260000e+00  1.41870032e-02]\n",
      " [ 3.66460000e+00  1.11152039e-02]\n",
      " [ 3.34620000e+00  8.77438822e-03]\n",
      " [ 3.05940000e+00  6.93796935e-03]\n",
      " [ 2.79590000e+00  5.55557154e-03]\n",
      " [ 2.55730000e+00  4.50360445e-03]\n",
      " [ 2.33480000e+00  3.68115207e-03]\n",
      " [ 2.13170000e+00  2.98365509e-03]\n",
      " [ 1.94700000e+00  2.47986332e-03]\n",
      " [ 1.77900000e+00  2.10584195e-03]\n",
      " [ 1.62520000e+00  1.77760780e-03]\n",
      " [ 1.48500000e+00  1.54348690e-03]\n",
      " [ 1.35690000e+00  1.34388746e-03]\n",
      " [ 1.23910000e+00  1.16634455e-03]\n",
      " [ 1.13210000e+00  9.96285778e-04]\n",
      " [ 1.03480000e+00  8.74020450e-04]\n",
      " [ 9.45100000e-01  7.90351956e-04]\n",
      " [ 8.64000000e-01  7.04573000e-04]\n",
      " [ 7.88900000e-01  6.29374189e-04]\n",
      " [ 7.21100000e-01  5.67035476e-04]\n",
      " [ 6.59000000e-01  5.13504981e-04]\n",
      " [ 6.02000000e-01  4.52711355e-04]\n",
      " [ 5.50000000e-01  3.80407593e-04]\n",
      " [ 5.02200000e-01  3.28427378e-04]\n",
      " [ 4.59200000e-01  2.99431425e-04]\n",
      " [ 4.20100000e-01  2.88222806e-04]\n",
      " [ 3.82900000e-01  2.79919615e-04]\n",
      " [ 3.50100000e-01  2.31812357e-04]\n",
      " [ 3.50300000e-01  2.32490756e-04]\n",
      " [ 3.93000000e-01  2.84668348e-04]\n",
      " [ 4.42000000e-01  2.93403006e-04]\n",
      " [ 5.41800000e-01  3.22714474e-04]\n",
      " [ 5.58700000e-01  3.92465616e-04]\n",
      " [ 6.26800000e-01  4.80460828e-04]\n",
      " [ 7.05000000e-01  5.49035481e-04]\n",
      " [ 7.91700000e-01  6.28303462e-04]\n",
      " [ 8.90200000e-01  7.32281381e-04]\n",
      " [ 9.99800000e-01  8.42712962e-04]\n",
      " [ 1.49990000e+00  1.56082581e-03]\n",
      " [ 1.38910000e+00  1.39442011e-03]\n",
      " [ 1.28680000e+00  1.23693458e-03]\n",
      " [ 1.19260000e+00  6.60251070e-05]\n",
      " [ 1.10450000e+00  6.60470179e-05]\n",
      " [ 1.02340000e+00  5.46340717e-05]\n",
      " [ 9.46000000e-01  8.77882450e-05]\n",
      " [ 8.77700000e-01  1.46593787e-04]\n",
      " [ 8.11700000e-01  7.93391548e-05]\n",
      " [ 7.53300000e-01  6.00411711e-05]\n",
      " [ 6.97300000e-01  7.56183574e-05]\n",
      " [ 6.46500000e-01  7.12848559e-05]\n",
      " [ 5.97900000e-01  1.81525380e-05]\n",
      " [ 5.53900000e-01 -1.89794047e-06]\n",
      " [ 5.13300000e-01  2.25390388e-06]\n",
      " [ 4.75400000e-01  1.81641292e-06]\n",
      " [ 4.40500000e-01  2.22825104e-06]\n",
      " [ 4.08000000e-01  2.24311884e-06]\n",
      " [ 3.78100000e-01  2.26658033e-06]\n",
      " [ 3.50200000e-01  7.18170120e-07]\n",
      " [ 1.50030000e+00  2.14088505e-03]\n",
      " [ 1.38900000e+00  1.89282796e-03]\n",
      " [ 1.28710000e+00  1.67440211e-03]\n",
      " [ 1.19210000e+00  1.47140472e-03]\n",
      " [ 1.10410000e+00  1.25565451e-03]\n",
      " [ 1.02310000e+00  1.10167396e-03]\n",
      " [ 9.46900000e-01  9.69394840e-04]\n",
      " [ 8.77000000e-01  8.70904491e-04]\n",
      " [ 8.13000000e-01  7.87198004e-04]\n",
      " [ 7.53200000e-01  7.15449551e-04]\n",
      " [ 6.97100000e-01  6.54144839e-04]\n",
      " [ 6.46000000e-01  6.01240635e-04]\n",
      " [ 5.98000000e-01  5.36036720e-04]\n",
      " [ 5.54100000e-01  4.61921982e-04]\n",
      " [ 5.13100000e-01  4.05596173e-04]\n",
      " [ 4.75200000e-01  3.70132317e-04]\n",
      " [ 4.40200000e-01  3.49186781e-04]\n",
      " [ 4.08000000e-01  3.39943018e-04]\n",
      " [ 3.78200000e-01  3.33353970e-04]\n",
      " [ 3.50300000e-01  2.76331275e-04]\n",
      " [ 1.00085000e+01  1.16471500e-02]\n",
      " [ 8.85730000e+00  1.07098339e-02]\n",
      " [ 7.84700000e+00  9.14804812e-03]\n",
      " [ 6.94750000e+00  8.41636826e-03]\n",
      " [ 9.99870000e+00  9.51405479e-03]\n",
      " [ 1.00154000e+01  1.09746469e-02]\n",
      " [ 8.85280000e+00  1.02717509e-02]\n",
      " [ 7.84880000e+00  9.61027895e-03]\n",
      " [ 6.94570000e+00  8.87810907e-03]\n",
      " [ 6.16270000e+00  8.28416512e-03]\n",
      " [ 5.45120000e+00  4.03782161e-03]\n",
      " [ 4.83040000e+00  5.02999694e-03]\n",
      " [ 4.28360000e+00  3.83421972e-03]\n",
      " [ 3.78140000e+00  2.71525095e-03]\n",
      " [ 3.36960000e+00  1.67525208e-03]\n",
      " [ 2.98330000e+00  1.08414560e-03]\n",
      " [ 2.64210000e+00  9.86530165e-04]\n",
      " [ 2.33910000e+00  3.61431687e-04]\n",
      " [ 2.06410000e+00  7.25629063e-04]\n",
      " [ 1.83320000e+00  3.58458572e-04]\n",
      " [ 1.00037000e+01  1.00319545e-02]\n",
      " [ 1.00056000e+01  1.93960553e-01]\n",
      " [ 1.00056000e+01  1.84920129e-01]\n",
      " [ 8.92150000e+00  1.38597158e-01]\n",
      " [ 7.95980000e+00  9.93804936e-02]\n",
      " [ 7.09310000e+00  7.14653044e-02]\n",
      " [ 6.29190000e+00  5.01137202e-02]\n",
      " [ 5.61180000e+00  3.58464299e-02]\n",
      " [ 5.00160000e+00  2.59061914e-02]\n",
      " [ 4.45550000e+00  1.88044845e-02]\n",
      " [ 3.96890000e+00  1.37883548e-02]\n",
      " [ 3.53300000e+00  1.01090316e-02]\n",
      " [ 3.14480000e+00  7.44841949e-03]\n",
      " [ 2.80550000e+00  5.62568091e-03]\n",
      " [ 2.49940000e+00  4.28983043e-03]\n",
      " [ 2.22580000e+00  3.31893963e-03]\n",
      " [ 1.98210000e+00  2.57411212e-03]\n",
      " [ 1.76610000e+00  2.07849739e-03]\n",
      " [ 1.57300000e+00  1.66537860e-03]\n",
      " [ 1.40200000e+00  1.41400809e-03]\n",
      " [ 1.24810000e+00  1.18008002e-03]\n",
      " [ 1.11200000e+00  9.53705840e-04]\n",
      " [ 9.91100000e-01  8.28337218e-04]\n",
      " [ 8.81700000e-01  7.23382095e-04]\n",
      " [ 7.86000000e-01  6.23209066e-04]\n",
      " [ 7.00000000e-01  5.45455250e-04]\n",
      " [ 6.24000000e-01  4.74637352e-04]\n",
      " [ 5.55700000e-01  3.89305071e-04]\n",
      " [ 4.95000000e-01  3.22125603e-04]\n",
      " [ 4.41000000e-01  2.94118315e-04]\n",
      " [ 3.92800000e-01  2.81819037e-04]\n",
      " [ 3.50200000e-01  2.30850536e-04]]\n"
     ]
    }
   ],
   "source": [
    "#importer les données de la chaleure spécifique\n",
    "C = np.loadtxt('Cp_vs_T.txt', delimiter=\"\\t\")\n",
    "\n",
    "#et inspecter les données\n",
    "print(C)"
   ]
  },
  {
   "cell_type": "code",
   "execution_count": 5,
   "metadata": {},
   "outputs": [],
   "source": [
    "#extraire deux vecteurs\n",
    "T=C[:,0]\n",
    "Cp=C[:,1]"
   ]
  },
  {
   "cell_type": "code",
   "execution_count": 6,
   "metadata": {},
   "outputs": [
    {
     "data": {
      "image/png": "[encoded data removed]",
      "text/plain": [
       "<Figure size 432x288 with 1 Axes>"
      ]
     },
     "metadata": {
      "needs_background": "light"
     },
     "output_type": "display_data"
    }
   ],
   "source": [
    "plt.plot(T, Cp)\n",
    "plt.show()"
   ]
  },
  {
   "cell_type": "code",
   "execution_count": 6,
   "metadata": {},
   "outputs": [],
   "source": [
    "#La théorie predit un chaleur spécifique avec deux contributions\n",
    "#Cp=gT+bT^3, donc pour avoir une ligne droite nous devons reformuler les données:\n",
    "#Cp/T=g+bT^2\n",
    "T2=T*T\n",
    "CpdivT=Cp/T"
   ]
  },
  {
   "cell_type": "code",
   "execution_count": 7,
   "metadata": {},
   "outputs": [
    {
     "data": {
      "image/png": "[encoded data removed]",
      "text/plain": [
       "<Figure size 432x288 with 1 Axes>"
      ]
     },
     "metadata": {
      "needs_background": "light"
     },
     "output_type": "display_data"
    }
   ],
   "source": [
    "#inspecter les données transformées\n",
    "plt.plot(T2, CpdivT)\n",
    "plt.show()"
   ]
  },
  {
   "cell_type": "code",
   "execution_count": 8,
   "metadata": {},
   "outputs": [
    {
     "name": "stdout",
     "output_type": "stream",
     "text": [
      "hot_T2 28\n",
      "[253.42443088 259.59138819 265.71673267 271.9019613  278.20705461\n",
      " 284.63941399 290.98866939 297.57561014 304.1529024  310.71148154\n",
      " 317.45404122 324.16670144 330.83135411 337.28130565 343.72381324\n",
      " 351.30042386 358.73420648 365.33620361 373.17546506 381.21781504\n",
      " 388.72696515 396.43398342 404.36906574 410.35982388 411.59036554\n",
      " 412.05833261 412.25728897 416.15061605]\n"
     ]
    }
   ],
   "source": [
    "#selectionner la bonne section en températures\n",
    "#https://docs.scipy.org/doc/numpy-1.5.x/reference/arrays.indexing.html\n",
    "hot_T2 = T2[T2 > 250]\n",
    "print('hot_T2',len(hot_T2))\n",
    "print(hot_T2)"
   ]
  },
  {
   "cell_type": "code",
   "execution_count": 9,
   "metadata": {},
   "outputs": [
    {
     "name": "stdout",
     "output_type": "stream",
     "text": [
      "last 98\n",
      "70\n",
      "hot_CpdivT 28\n"
     ]
    }
   ],
   "source": [
    "last=len(T2)\n",
    "print('last',last)\n",
    "l_hot_T2=len(hot_T2)\n",
    "beg=last-l_hot_T2\n",
    "print(beg)\n",
    "hot_CpdivT=CpdivT[beg:]\n",
    "print('hot_CpdivT',len(hot_CpdivT))"
   ]
  },
  {
   "cell_type": "code",
   "execution_count": 10,
   "metadata": {},
   "outputs": [
    {
     "data": {
      "image/png": "[encoded data removed]",
      "text/plain": [
       "<Figure size 432x288 with 1 Axes>"
      ]
     },
     "metadata": {
      "needs_background": "light"
     },
     "output_type": "display_data"
    }
   ],
   "source": [
    "plt.plot(hot_T2, hot_CpdivT)\n",
    "plt.show()"
   ]
  },
  {
   "cell_type": "code",
   "execution_count": 11,
   "metadata": {},
   "outputs": [],
   "source": [
    "#ajuster un polynome aux données, dans notre cas une ligne droite.\n",
    "#https://www.kite.com/python/answers/how-to-plot-a-line-of-best-fit-in-python\n",
    "m,b=np.polyfit(hot_T2, hot_CpdivT, 1)"
   ]
  },
  {
   "cell_type": "code",
   "execution_count": 12,
   "metadata": {},
   "outputs": [
    {
     "data": {
      "text/plain": [
       "(0, 0.75)"
      ]
     },
     "execution_count": 12,
     "metadata": {},
     "output_type": "execute_result"
    },
    {
     "data": {
      "image/png": "[encoded data removed]",
      "text/plain": [
       "<Figure size 432x288 with 1 Axes>"
      ]
     },
     "metadata": {
      "needs_background": "light"
     },
     "output_type": "display_data"
    }
   ],
   "source": [
    "plt.plot(T2,CpdivT)\n",
    "plt.plot(hot_T2, hot_CpdivT, 'o')\n",
    "plt.plot(T2, m*T2 + b)\n",
    "#Ajouter la designation des axes\n",
    "#https://www.kite.com/python/answers/how-to-add-axis-labels-to-a-plot-in-matplotlib-in-python\n",
    "plt.xlabel(\"T^2 (K^2)\")\n",
    "plt.ylabel(\"Cp/T (J/mol K^2)\")\n",
    "#Faire un Zoom sur les données en dessous de 0.75 J/mol K^2\n",
    "#https://www.kite.com/python/answers/how-to-set-axis-ranges-in-matplotlib-in-python\n",
    "plt.ylim(0,0.75)"
   ]
  },
  {
   "cell_type": "code",
   "execution_count": null,
   "metadata": {},
   "outputs": [],
   "source": []
  },
  {
   "cell_type": "code",
   "execution_count": null,
   "metadata": {},
   "outputs": [],
   "source": []
  }
 ],
 "metadata": {
  "kernelspec": {
   "display_name": "Python 3",
   "language": "python",
   "name": "python3"
  },
  "language_info": {
   "codemirror_mode": {
    "name": "ipython",
    "version": 3
   },
   "file_extension": ".py",
   "mimetype": "text/x-python",
   "name": "python",
   "nbconvert_exporter": "python",
   "pygments_lexer": "ipython3",
   "version": "3.7.3"
  }
 },
 "nbformat": 4,
 "nbformat_minor": 2
}
